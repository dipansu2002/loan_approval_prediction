{
 "cells": [
  {
   "cell_type": "code",
   "execution_count": 16,
   "id": "dfa2d043-8625-45a3-b06f-e4f3c0628e3d",
   "metadata": {},
   "outputs": [],
   "source": [
    "# Import necessary libraries\n",
    "\n",
    "import pandas as pd\n",
    "import numpy as np\n",
    "import joblib\n",
    "from sklearn.model_selection import train_test_split, GridSearchCV\n",
    "from sklearn.preprocessing import LabelEncoder\n",
    "from sklearn.linear_model import LogisticRegression\n",
    "from sklearn.tree import DecisionTreeClassifier\n",
    "from sklearn.ensemble import RandomForestClassifier\n",
    "from sklearn.neighbors import KNeighborsClassifier\n",
    "from sklearn.metrics import accuracy_score, classification_report\n",
    "from imblearn.over_sampling import RandomOverSampler"
   ]
  },
  {
   "cell_type": "code",
   "execution_count": 17,
   "id": "de3810aa-ce95-41af-8d77-981d4f06e61d",
   "metadata": {},
   "outputs": [],
   "source": [
    "df = pd.read_csv('Dataset_with_Synthetic_Personal_Loan.csv')\n"
   ]
  },
  {
   "cell_type": "code",
   "execution_count": 18,
   "id": "c78593a0-2f13-43e8-a067-8d802994a36d",
   "metadata": {},
   "outputs": [],
   "source": [
    "# DROP UNUSED COLUMNS\n",
    "# -----------------------\n",
    "cols_to_drop = ['Loan_ID', 'Loan_Type', 'Property_Area', 'LoanAmount', 'Loan_Amount_Term', \n",
    "                'CoapplicantIncome', 'ApplicantIncome', 'Total_Income']\n",
    "df.drop(columns=cols_to_drop, inplace=True, errors='ignore')"
   ]
  },
  {
   "cell_type": "code",
   "execution_count": 19,
   "id": "4ec028e1-2c73-4627-9460-e35b3d35da9c",
   "metadata": {},
   "outputs": [],
   "source": [
    "# Numerical columns\n",
    "df['Credit_History'] = df['Credit_History'].fillna(df['Credit_History'].mean())\n",
    "df['Credit_Card_Debt'] = df['Credit_Card_Debt'].fillna(df['Credit_Card_Debt'].median())\n",
    "df['Existing_Personal_Loan'] = df['Existing_Personal_Loan'].fillna(0)"
   ]
  },
  {
   "cell_type": "code",
   "execution_count": 20,
   "id": "1e418003-b2bf-4da3-b992-3ac83c3db7c9",
   "metadata": {},
   "outputs": [],
   "source": [
    "# Categorical columns\n",
    "for col in ['Gender', 'Married', 'Dependents', 'Self_Employed', 'Education', 'Employment_Type']:\n",
    "    df[col] = df[col].fillna(df[col].mode()[0])"
   ]
  },
  {
   "cell_type": "code",
   "execution_count": 21,
   "id": "319f7f95-00bb-492b-965d-4ce8536ee247",
   "metadata": {},
   "outputs": [],
   "source": [
    "# ENCODING CATEGORICAL VARIABLES\n",
    "# -----------------------\n",
    "label_cols = ['Gender', 'Married', 'Education', 'Dependents', 'Self_Employed', 'Employment_Type', 'Loan_Status']\n",
    "le = LabelEncoder()\n",
    "for col in label_cols:\n",
    "    if col in df.columns:\n",
    "        df[col] = le.fit_transform(df[col])"
   ]
  },
  {
   "cell_type": "code",
   "execution_count": 22,
   "id": "68dcc726-244d-46c9-8332-1c5eda8c2f0d",
   "metadata": {},
   "outputs": [],
   "source": [
    "# INDEPENDENT & DEPENDENT VARIABLES\n",
    "# -----------------------\n",
    "X = df.drop(columns=['Loan_Status'], axis=1)\n",
    "y = df['Loan_Status']"
   ]
  },
  {
   "cell_type": "code",
   "execution_count": 23,
   "id": "2a1375ab-778e-4207-aca6-b4109f2fbe13",
   "metadata": {},
   "outputs": [],
   "source": [
    "# HANDLE IMBALANCED DATA\n",
    "# -----------------------\n",
    "oversample = RandomOverSampler(random_state=42)\n",
    "X_resampled, y_resampled = oversample.fit_resample(X, y)\n"
   ]
  },
  {
   "cell_type": "code",
   "execution_count": 9,
   "id": "b15694fb-cbdd-4ce0-991a-ea53ef688216",
   "metadata": {},
   "outputs": [],
   "source": [
    "# SPLIT DATA\n",
    "# -----------------------\n",
    "X_train, X_test, y_train, y_test = train_test_split(X_resampled, y_resampled, test_size=0.25, random_state=42)"
   ]
  },
  {
   "cell_type": "code",
   "execution_count": 24,
   "id": "5e90b62a-3010-400a-a5d7-bf3e68fa48c1",
   "metadata": {},
   "outputs": [],
   "source": [
    "# HYPERPARAMETER TUNING FUNCTION & MODEL STORAGE\n",
    "# -----------------------\n",
    "best_models = {}\n",
    "\n",
    "def tune_and_evaluate(model, param_grid, model_name):\n",
    "    grid_search = GridSearchCV(model, param_grid, cv=5, scoring='accuracy', n_jobs=-1)\n",
    "    grid_search.fit(X_train, y_train)\n",
    "    \n",
    "    best_model = grid_search.best_estimator_\n",
    "    best_models[model_name] = best_model  # Store the best model\n",
    "    \n",
    "    y_pred = best_model.predict(X_test)\n",
    "    \n",
    "    acc = accuracy_score(y_test, y_pred)\n",
    "    print(f\"\\n🔍 Best Parameters for {model_name}: {grid_search.best_params_}\")\n",
    "    print(f\"✅ Accuracy of {model_name}: {acc * 100:.2f}%\")\n",
    "    print(f\"📊 Classification Report for {model_name}:\\n{classification_report(y_test, y_pred)}\\n\")"
   ]
  },
  {
   "cell_type": "code",
   "execution_count": 27,
   "id": "8f17b1ba-42cf-4f4a-9ee9-90d4085c99b5",
   "metadata": {},
   "outputs": [],
   "source": [
    "# PARAMETER GRIDS\n",
    "# -----------------------\n",
    "\n",
    "param_grids = {\n",
    "    \"Logistic Regression\": {\n",
    "        \"model\": LogisticRegression(max_iter=1000),\n",
    "        \"params\": {\n",
    "            \"C\": [0.01, 0.1, 1, 10, 100], \n",
    "            \"solver\": [\"liblinear\", \"lbfgs\"]\n",
    "        }\n",
    "    },\n",
    "    \"Decision Tree\": {\n",
    "        \"model\": DecisionTreeClassifier(random_state=42),\n",
    "        \"params\": {\n",
    "            \"max_depth\": [3, 5, 10, None],\n",
    "            \"min_samples_split\": [2, 5, 10],\n",
    "            \"min_samples_leaf\": [1, 2, 5]\n",
    "        }\n",
    "    },\n",
    "    \"Random Forest\": {\n",
    "        \"model\": RandomForestClassifier(random_state=42),\n",
    "        \"params\": {\n",
    "            \"n_estimators\": [50, 100, 200],\n",
    "            \"max_depth\": [3, 5, 10, None],\n",
    "            \"min_samples_split\": [2, 5, 10],\n",
    "            \"min_samples_leaf\": [1, 2, 5]\n",
    "        }\n",
    "    },\n",
    "    \"K-Nearest Neighbors\": {\n",
    "        \"model\": KNeighborsClassifier(),\n",
    "        \"params\": {\n",
    "            \"n_neighbors\": [3, 5, 7, 9],\n",
    "            \"weights\": [\"uniform\", \"distance\"],\n",
    "            \"metric\": [\"euclidean\", \"manhattan\"]\n",
    "        }\n",
    "    }\n",
    "}"
   ]
  },
  {
   "cell_type": "code",
   "execution_count": 28,
   "id": "68c330bc-a8e3-4095-842b-824a5189027b",
   "metadata": {},
   "outputs": [
    {
     "name": "stdout",
     "output_type": "stream",
     "text": [
      "\n",
      "🔍 Best Parameters for Logistic Regression: {'C': 1, 'solver': 'lbfgs'}\n",
      "✅ Accuracy of Logistic Regression: 69.67%\n",
      "📊 Classification Report for Logistic Regression:\n",
      "              precision    recall  f1-score   support\n",
      "\n",
      "           0       0.90      0.49      0.64       114\n",
      "           1       0.61      0.94      0.74        97\n",
      "\n",
      "    accuracy                           0.70       211\n",
      "   macro avg       0.76      0.71      0.69       211\n",
      "weighted avg       0.77      0.70      0.68       211\n",
      "\n",
      "\n",
      "\n",
      "🔍 Best Parameters for Decision Tree: {'max_depth': None, 'min_samples_leaf': 1, 'min_samples_split': 2}\n",
      "✅ Accuracy of Decision Tree: 84.36%\n",
      "📊 Classification Report for Decision Tree:\n",
      "              precision    recall  f1-score   support\n",
      "\n",
      "           0       0.83      0.89      0.86       114\n",
      "           1       0.86      0.78      0.82        97\n",
      "\n",
      "    accuracy                           0.84       211\n",
      "   macro avg       0.85      0.84      0.84       211\n",
      "weighted avg       0.85      0.84      0.84       211\n",
      "\n",
      "\n",
      "\n",
      "🔍 Best Parameters for Random Forest: {'max_depth': None, 'min_samples_leaf': 1, 'min_samples_split': 2, 'n_estimators': 100}\n",
      "✅ Accuracy of Random Forest: 84.36%\n",
      "📊 Classification Report for Random Forest:\n",
      "              precision    recall  f1-score   support\n",
      "\n",
      "           0       0.84      0.88      0.86       114\n",
      "           1       0.85      0.80      0.83        97\n",
      "\n",
      "    accuracy                           0.84       211\n",
      "   macro avg       0.84      0.84      0.84       211\n",
      "weighted avg       0.84      0.84      0.84       211\n",
      "\n",
      "\n",
      "\n",
      "🔍 Best Parameters for K-Nearest Neighbors: {'metric': 'manhattan', 'n_neighbors': 3, 'weights': 'distance'}\n",
      "✅ Accuracy of K-Nearest Neighbors: 74.41%\n",
      "📊 Classification Report for K-Nearest Neighbors:\n",
      "              precision    recall  f1-score   support\n",
      "\n",
      "           0       0.72      0.86      0.78       114\n",
      "           1       0.79      0.61      0.69        97\n",
      "\n",
      "    accuracy                           0.74       211\n",
      "   macro avg       0.75      0.73      0.74       211\n",
      "weighted avg       0.75      0.74      0.74       211\n",
      "\n",
      "\n"
     ]
    }
   ],
   "source": [
    "# RUN TUNING & EVALUATION\n",
    "# -----------------------\n",
    "for name, cfg in param_grids.items():\n",
    "    tune_and_evaluate(cfg[\"model\"], cfg[\"params\"], name)\n"
   ]
  },
  {
   "cell_type": "code",
   "execution_count": 29,
   "id": "827d35ad-ffc1-4bd0-8ee8-1dd8091b3fec",
   "metadata": {},
   "outputs": [
    {
     "name": "stdout",
     "output_type": "stream",
     "text": [
      "\n",
      "✅ Best model 'Decision Tree' saved as best_model_Decision_Tree.pkl.\n"
     ]
    }
   ],
   "source": [
    "# SAVE BEST MODEL TO FILE\n",
    "# -----------------------\n",
    "best_model_name = max(best_models, key=lambda k: accuracy_score(y_test, best_models[k].predict(X_test)))\n",
    "best_model = best_models[best_model_name]\n",
    "\n",
    "model_path = f\"best_model_{best_model_name.replace(' ', '_')}.pkl\"\n",
    "joblib.dump(best_model, model_path)\n",
    "print(f\"\\n✅ Best model '{best_model_name}' saved as {model_path}.\")"
   ]
  },
  {
   "cell_type": "code",
   "execution_count": null,
   "id": "0722aa6a-7f42-471e-8b7d-40a5f038da88",
   "metadata": {},
   "outputs": [],
   "source": []
  }
 ],
 "metadata": {
  "kernelspec": {
   "display_name": "Python 3 (ipykernel)",
   "language": "python",
   "name": "python3"
  },
  "language_info": {
   "codemirror_mode": {
    "name": "ipython",
    "version": 3
   },
   "file_extension": ".py",
   "mimetype": "text/x-python",
   "name": "python",
   "nbconvert_exporter": "python",
   "pygments_lexer": "ipython3",
   "version": "3.11.9"
  }
 },
 "nbformat": 4,
 "nbformat_minor": 5
}
