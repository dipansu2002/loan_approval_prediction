{
 "cells": [
  {
   "cell_type": "code",
   "execution_count": 1,
   "id": "dfa2d043-8625-45a3-b06f-e4f3c0628e3d",
   "metadata": {},
   "outputs": [],
   "source": [
    "# Import necessary libraries\n",
    "import pandas as pd\n",
    "import numpy as np\n",
    "import seaborn as sns\n",
    "import matplotlib.pyplot as plt\n",
    "import warnings\n",
    "from sklearn.model_selection import train_test_split, cross_val_score\n",
    "from sklearn.preprocessing import LabelEncoder\n",
    "from sklearn.linear_model import LogisticRegression\n",
    "from sklearn.tree import DecisionTreeClassifier\n",
    "from sklearn.ensemble import RandomForestClassifier\n",
    "from sklearn.neighbors import KNeighborsClassifier\n",
    "from sklearn.metrics import accuracy_score, classification_report\n",
    "from imblearn.over_sampling import RandomOverSampler\n",
    "import joblib\n"
   ]
  },
  {
   "cell_type": "code",
   "execution_count": 2,
   "id": "b29d140f-652c-44ff-90e1-85c57ddfdba9",
   "metadata": {},
   "outputs": [],
   "source": [
    "# Ignore warnings\n",
    "warnings.filterwarnings('ignore')"
   ]
  },
  {
   "cell_type": "code",
   "execution_count": 3,
   "id": "de3810aa-ce95-41af-8d77-981d4f06e61d",
   "metadata": {},
   "outputs": [],
   "source": [
    "df = pd.read_csv('Dataset_with_Synthetic_Personal_Loan.csv')\n"
   ]
  },
  {
   "cell_type": "code",
   "execution_count": 4,
   "id": "b273dce9-cd6d-46ba-b998-4742e2f6f741",
   "metadata": {},
   "outputs": [
    {
     "data": {
      "text/html": [
       "<div>\n",
       "<style scoped>\n",
       "    .dataframe tbody tr th:only-of-type {\n",
       "        vertical-align: middle;\n",
       "    }\n",
       "\n",
       "    .dataframe tbody tr th {\n",
       "        vertical-align: top;\n",
       "    }\n",
       "\n",
       "    .dataframe thead th {\n",
       "        text-align: right;\n",
       "    }\n",
       "</style>\n",
       "<table border=\"1\" class=\"dataframe\">\n",
       "  <thead>\n",
       "    <tr style=\"text-align: right;\">\n",
       "      <th></th>\n",
       "      <th>Loan_ID</th>\n",
       "      <th>Gender</th>\n",
       "      <th>Married</th>\n",
       "      <th>Dependents</th>\n",
       "      <th>Education</th>\n",
       "      <th>Self_Employed</th>\n",
       "      <th>ApplicantIncome</th>\n",
       "      <th>CoapplicantIncome</th>\n",
       "      <th>LoanAmount</th>\n",
       "      <th>Loan_Amount_Term</th>\n",
       "      <th>Credit_History</th>\n",
       "      <th>Property_Area</th>\n",
       "      <th>Loan_Status</th>\n",
       "      <th>Total_Income</th>\n",
       "      <th>Credit_Card_Debt</th>\n",
       "      <th>Existing_Personal_Loan</th>\n",
       "      <th>Employment_Type</th>\n",
       "    </tr>\n",
       "  </thead>\n",
       "  <tbody>\n",
       "    <tr>\n",
       "      <th>0</th>\n",
       "      <td>LP001002</td>\n",
       "      <td>Male</td>\n",
       "      <td>No</td>\n",
       "      <td>0</td>\n",
       "      <td>Graduate</td>\n",
       "      <td>No</td>\n",
       "      <td>5849</td>\n",
       "      <td>0.0</td>\n",
       "      <td>NaN</td>\n",
       "      <td>360.0</td>\n",
       "      <td>1.0</td>\n",
       "      <td>Urban</td>\n",
       "      <td>Y</td>\n",
       "      <td>5849.0</td>\n",
       "      <td>1278.26</td>\n",
       "      <td>1</td>\n",
       "      <td>Unemployed</td>\n",
       "    </tr>\n",
       "    <tr>\n",
       "      <th>1</th>\n",
       "      <td>LP001003</td>\n",
       "      <td>Male</td>\n",
       "      <td>Yes</td>\n",
       "      <td>1</td>\n",
       "      <td>Graduate</td>\n",
       "      <td>No</td>\n",
       "      <td>4583</td>\n",
       "      <td>1508.0</td>\n",
       "      <td>128.0</td>\n",
       "      <td>360.0</td>\n",
       "      <td>1.0</td>\n",
       "      <td>Rural</td>\n",
       "      <td>N</td>\n",
       "      <td>6091.0</td>\n",
       "      <td>2910.41</td>\n",
       "      <td>1</td>\n",
       "      <td>Salaried</td>\n",
       "    </tr>\n",
       "    <tr>\n",
       "      <th>2</th>\n",
       "      <td>LP001005</td>\n",
       "      <td>Male</td>\n",
       "      <td>Yes</td>\n",
       "      <td>0</td>\n",
       "      <td>Graduate</td>\n",
       "      <td>Yes</td>\n",
       "      <td>3000</td>\n",
       "      <td>0.0</td>\n",
       "      <td>66.0</td>\n",
       "      <td>360.0</td>\n",
       "      <td>1.0</td>\n",
       "      <td>Urban</td>\n",
       "      <td>Y</td>\n",
       "      <td>3000.0</td>\n",
       "      <td>1138.19</td>\n",
       "      <td>0</td>\n",
       "      <td>Self-Employed</td>\n",
       "    </tr>\n",
       "    <tr>\n",
       "      <th>3</th>\n",
       "      <td>LP001006</td>\n",
       "      <td>Male</td>\n",
       "      <td>Yes</td>\n",
       "      <td>0</td>\n",
       "      <td>Not Graduate</td>\n",
       "      <td>No</td>\n",
       "      <td>2583</td>\n",
       "      <td>2358.0</td>\n",
       "      <td>120.0</td>\n",
       "      <td>360.0</td>\n",
       "      <td>1.0</td>\n",
       "      <td>Urban</td>\n",
       "      <td>Y</td>\n",
       "      <td>4941.0</td>\n",
       "      <td>1578.14</td>\n",
       "      <td>0</td>\n",
       "      <td>Salaried</td>\n",
       "    </tr>\n",
       "    <tr>\n",
       "      <th>4</th>\n",
       "      <td>LP001008</td>\n",
       "      <td>Male</td>\n",
       "      <td>No</td>\n",
       "      <td>0</td>\n",
       "      <td>Graduate</td>\n",
       "      <td>No</td>\n",
       "      <td>6000</td>\n",
       "      <td>0.0</td>\n",
       "      <td>141.0</td>\n",
       "      <td>360.0</td>\n",
       "      <td>1.0</td>\n",
       "      <td>Urban</td>\n",
       "      <td>Y</td>\n",
       "      <td>6000.0</td>\n",
       "      <td>721.25</td>\n",
       "      <td>1</td>\n",
       "      <td>Salaried</td>\n",
       "    </tr>\n",
       "  </tbody>\n",
       "</table>\n",
       "</div>"
      ],
      "text/plain": [
       "    Loan_ID Gender Married Dependents     Education Self_Employed  \\\n",
       "0  LP001002   Male      No          0      Graduate            No   \n",
       "1  LP001003   Male     Yes          1      Graduate            No   \n",
       "2  LP001005   Male     Yes          0      Graduate           Yes   \n",
       "3  LP001006   Male     Yes          0  Not Graduate            No   \n",
       "4  LP001008   Male      No          0      Graduate            No   \n",
       "\n",
       "   ApplicantIncome  CoapplicantIncome  LoanAmount  Loan_Amount_Term  \\\n",
       "0             5849                0.0         NaN             360.0   \n",
       "1             4583             1508.0       128.0             360.0   \n",
       "2             3000                0.0        66.0             360.0   \n",
       "3             2583             2358.0       120.0             360.0   \n",
       "4             6000                0.0       141.0             360.0   \n",
       "\n",
       "   Credit_History Property_Area Loan_Status  Total_Income  Credit_Card_Debt  \\\n",
       "0             1.0         Urban           Y        5849.0           1278.26   \n",
       "1             1.0         Rural           N        6091.0           2910.41   \n",
       "2             1.0         Urban           Y        3000.0           1138.19   \n",
       "3             1.0         Urban           Y        4941.0           1578.14   \n",
       "4             1.0         Urban           Y        6000.0            721.25   \n",
       "\n",
       "   Existing_Personal_Loan Employment_Type  \n",
       "0                       1      Unemployed  \n",
       "1                       1        Salaried  \n",
       "2                       0   Self-Employed  \n",
       "3                       0        Salaried  \n",
       "4                       1        Salaried  "
      ]
     },
     "execution_count": 4,
     "metadata": {},
     "output_type": "execute_result"
    }
   ],
   "source": [
    "# Checking the dataset\n",
    "df.head()\n"
   ]
  },
  {
   "cell_type": "code",
   "execution_count": 9,
   "id": "c78593a0-2f13-43e8-a067-8d802994a36d",
   "metadata": {},
   "outputs": [],
   "source": [
    "# DROP UNUSED COLUMNS\n",
    "# -----------------------\n",
    "cols_to_drop = ['Loan_ID', 'Loan_Type', 'Property_Area', 'LoanAmount', \n",
    "                'Loan_Amount_Term', 'CoapplicantIncome', 'ApplicantIncome', \n",
    "                'Total_Income', 'Self_Employed', 'Credit_History', 'Loan_Status']\n",
    "df.drop(columns=cols_to_drop, inplace=True, errors='ignore')\n"
   ]
  },
  {
   "cell_type": "code",
   "execution_count": 10,
   "id": "4ec028e1-2c73-4627-9460-e35b3d35da9c",
   "metadata": {},
   "outputs": [],
   "source": [
    "# HANDLE MISSING VALUES\n",
    "# -----------------------\n",
    "df['Credit_Card_Debt'] = df['Credit_Card_Debt'].fillna(df['Credit_Card_Debt'].median())\n",
    "df['Existing_Personal_Loan'] = df['Existing_Personal_Loan'].fillna(0)"
   ]
  },
  {
   "cell_type": "code",
   "execution_count": 11,
   "id": "1e418003-b2bf-4da3-b992-3ac83c3db7c9",
   "metadata": {},
   "outputs": [],
   "source": [
    "for col in ['Gender', 'Married', 'Dependents', 'Education', 'Employment_Type']:\n",
    "    df[col] = df[col].fillna(df[col].mode()[0])\n"
   ]
  },
  {
   "cell_type": "code",
   "execution_count": 12,
   "id": "319f7f95-00bb-492b-965d-4ce8536ee247",
   "metadata": {},
   "outputs": [
    {
     "data": {
      "text/html": [
       "<div>\n",
       "<style scoped>\n",
       "    .dataframe tbody tr th:only-of-type {\n",
       "        vertical-align: middle;\n",
       "    }\n",
       "\n",
       "    .dataframe tbody tr th {\n",
       "        vertical-align: top;\n",
       "    }\n",
       "\n",
       "    .dataframe thead th {\n",
       "        text-align: right;\n",
       "    }\n",
       "</style>\n",
       "<table border=\"1\" class=\"dataframe\">\n",
       "  <thead>\n",
       "    <tr style=\"text-align: right;\">\n",
       "      <th></th>\n",
       "      <th>Gender</th>\n",
       "      <th>Married</th>\n",
       "      <th>Dependents</th>\n",
       "      <th>Education</th>\n",
       "      <th>Credit_Card_Debt</th>\n",
       "      <th>Existing_Personal_Loan</th>\n",
       "      <th>Employment_Type</th>\n",
       "    </tr>\n",
       "  </thead>\n",
       "  <tbody>\n",
       "    <tr>\n",
       "      <th>0</th>\n",
       "      <td>1</td>\n",
       "      <td>0</td>\n",
       "      <td>0</td>\n",
       "      <td>0</td>\n",
       "      <td>1278.26</td>\n",
       "      <td>1</td>\n",
       "      <td>2</td>\n",
       "    </tr>\n",
       "    <tr>\n",
       "      <th>1</th>\n",
       "      <td>1</td>\n",
       "      <td>1</td>\n",
       "      <td>1</td>\n",
       "      <td>0</td>\n",
       "      <td>2910.41</td>\n",
       "      <td>1</td>\n",
       "      <td>0</td>\n",
       "    </tr>\n",
       "    <tr>\n",
       "      <th>2</th>\n",
       "      <td>1</td>\n",
       "      <td>1</td>\n",
       "      <td>0</td>\n",
       "      <td>0</td>\n",
       "      <td>1138.19</td>\n",
       "      <td>0</td>\n",
       "      <td>1</td>\n",
       "    </tr>\n",
       "    <tr>\n",
       "      <th>3</th>\n",
       "      <td>1</td>\n",
       "      <td>1</td>\n",
       "      <td>0</td>\n",
       "      <td>1</td>\n",
       "      <td>1578.14</td>\n",
       "      <td>0</td>\n",
       "      <td>0</td>\n",
       "    </tr>\n",
       "    <tr>\n",
       "      <th>4</th>\n",
       "      <td>1</td>\n",
       "      <td>0</td>\n",
       "      <td>0</td>\n",
       "      <td>0</td>\n",
       "      <td>721.25</td>\n",
       "      <td>1</td>\n",
       "      <td>0</td>\n",
       "    </tr>\n",
       "  </tbody>\n",
       "</table>\n",
       "</div>"
      ],
      "text/plain": [
       "   Gender  Married  Dependents  Education  Credit_Card_Debt  \\\n",
       "0       1        0           0          0           1278.26   \n",
       "1       1        1           1          0           2910.41   \n",
       "2       1        1           0          0           1138.19   \n",
       "3       1        1           0          1           1578.14   \n",
       "4       1        0           0          0            721.25   \n",
       "\n",
       "   Existing_Personal_Loan  Employment_Type  \n",
       "0                       1                2  \n",
       "1                       1                0  \n",
       "2                       0                1  \n",
       "3                       0                0  \n",
       "4                       1                0  "
      ]
     },
     "execution_count": 12,
     "metadata": {},
     "output_type": "execute_result"
    }
   ],
   "source": [
    "# ENCODING CATEGORICAL VARIABLES\n",
    "# -----------------------\n",
    "label_cols = ['Gender', 'Married', 'Education', 'Dependents', 'Employment_Type']\n",
    "le = LabelEncoder()\n",
    "for col in label_cols:\n",
    "    df[col] = le.fit_transform(df[col])\n",
    "df.head()"
   ]
  },
  {
   "cell_type": "code",
   "execution_count": null,
   "id": "d13d7b76-0a1d-483a-bb66-efe9417e81e0",
   "metadata": {},
   "outputs": [],
   "source": [
    "# INDEPENDENT & DEPENDENT VARIABLES\n",
    "# -----------------------\n",
    "X = df.drop(columns=['Existing_Personal_Loan'], axis=1)\n",
    "y = df['Existing_Personal_Loan']"
   ]
  },
  {
   "cell_type": "code",
   "execution_count": 15,
   "id": "2a1375ab-778e-4207-aca6-b4109f2fbe13",
   "metadata": {},
   "outputs": [],
   "source": [
    "# HANDLE IMBALANCED DATA\n",
    "# -----------------------\n",
    "oversample = RandomOverSampler(random_state=42)\n",
    "X_resampled, y_resampled = oversample.fit_resample(X, y)\n"
   ]
  },
  {
   "cell_type": "code",
   "execution_count": 16,
   "id": "b15694fb-cbdd-4ce0-991a-ea53ef688216",
   "metadata": {},
   "outputs": [],
   "source": [
    "# SPLIT DATA\n",
    "# -----------------------\n",
    "X_train, X_test, y_train, y_test = train_test_split(X_resampled, y_resampled, test_size=0.25, random_state=42)"
   ]
  },
  {
   "cell_type": "code",
   "execution_count": 17,
   "id": "5e90b62a-3010-400a-a5d7-bf3e68fa48c1",
   "metadata": {},
   "outputs": [
    {
     "name": "stdout",
     "output_type": "stream",
     "text": [
      "Accuracy of Logistic Regression: 52.07373271889401\n"
     ]
    }
   ],
   "source": [
    "# Logistic Regression\n",
    "model1 = LogisticRegression(max_iter=1000)\n",
    "model1.fit(X_train, y_train)\n",
    "y_pred_model1 = model1.predict(X_test)\n",
    "accuracy = accuracy_score(y_test, y_pred_model1)\n",
    "print(\"Accuracy of Logistic Regression:\", accuracy * 100)\n"
   ]
  },
  {
   "cell_type": "code",
   "execution_count": 18,
   "id": "8f17b1ba-42cf-4f4a-9ee9-90d4085c99b5",
   "metadata": {},
   "outputs": [
    {
     "name": "stdout",
     "output_type": "stream",
     "text": [
      "Accuracy of Decision Tree: 76.49769585253456\n"
     ]
    }
   ],
   "source": [
    "# Decision Tree\n",
    "model2 = DecisionTreeClassifier(random_state=42)\n",
    "model2.fit(X_train, y_train)\n",
    "y_pred_model2 = model2.predict(X_test)\n",
    "accuracy = accuracy_score(y_test, y_pred_model2)\n",
    "print(\"Accuracy of Decision Tree:\", accuracy * 100)"
   ]
  },
  {
   "cell_type": "code",
   "execution_count": 19,
   "id": "68c330bc-a8e3-4095-842b-824a5189027b",
   "metadata": {},
   "outputs": [
    {
     "name": "stdout",
     "output_type": "stream",
     "text": [
      "Accuracy of Random Forest: 78.80184331797236\n"
     ]
    }
   ],
   "source": [
    "# Random Forest\n",
    "model3 = RandomForestClassifier(n_estimators=200, random_state=42)\n",
    "model3.fit(X_train, y_train)\n",
    "y_pred_model3 = model3.predict(X_test)\n",
    "accuracy = accuracy_score(y_test, y_pred_model3)\n",
    "print(\"Accuracy of Random Forest:\", accuracy * 100)"
   ]
  },
  {
   "cell_type": "code",
   "execution_count": 20,
   "id": "827d35ad-ffc1-4bd0-8ee8-1dd8091b3fec",
   "metadata": {},
   "outputs": [
    {
     "name": "stdout",
     "output_type": "stream",
     "text": [
      "Accuracy of K-Nearest Neighbors: 66.3594470046083\n"
     ]
    }
   ],
   "source": [
    "# K-Nearest Neighbors\n",
    "model4 = KNeighborsClassifier(n_neighbors=3)\n",
    "model4.fit(X_train, y_train)\n",
    "y_pred_model4 = model4.predict(X_test)\n",
    "accuracy = accuracy_score(y_test, y_pred_model4)\n",
    "print(\"Accuracy of K-Nearest Neighbors:\", accuracy * 100)"
   ]
  },
  {
   "cell_type": "code",
   "execution_count": 21,
   "id": "0722aa6a-7f42-471e-8b7d-40a5f038da88",
   "metadata": {},
   "outputs": [
    {
     "name": "stdout",
     "output_type": "stream",
     "text": [
      "Classification Report for Logistic Regression:\n",
      "              precision    recall  f1-score   support\n",
      "\n",
      "           0       0.54      0.46      0.50       112\n",
      "           1       0.50      0.58      0.54       105\n",
      "\n",
      "    accuracy                           0.52       217\n",
      "   macro avg       0.52      0.52      0.52       217\n",
      "weighted avg       0.52      0.52      0.52       217\n",
      "\n",
      "\n",
      "Classification Report for Decision Tree:\n",
      "              precision    recall  f1-score   support\n",
      "\n",
      "           0       0.82      0.70      0.75       112\n",
      "           1       0.72      0.84      0.78       105\n",
      "\n",
      "    accuracy                           0.76       217\n",
      "   macro avg       0.77      0.77      0.76       217\n",
      "weighted avg       0.77      0.76      0.76       217\n",
      "\n",
      "\n",
      "Classification Report for Random Forest:\n",
      "              precision    recall  f1-score   support\n",
      "\n",
      "           0       0.84      0.73      0.78       112\n",
      "           1       0.75      0.85      0.79       105\n",
      "\n",
      "    accuracy                           0.79       217\n",
      "   macro avg       0.79      0.79      0.79       217\n",
      "weighted avg       0.79      0.79      0.79       217\n",
      "\n",
      "\n",
      "Classification Report for K-Nearest Neighbors:\n",
      "              precision    recall  f1-score   support\n",
      "\n",
      "           0       0.71      0.58      0.64       112\n",
      "           1       0.63      0.75      0.68       105\n",
      "\n",
      "    accuracy                           0.66       217\n",
      "   macro avg       0.67      0.67      0.66       217\n",
      "weighted avg       0.67      0.66      0.66       217\n",
      "\n",
      "\n"
     ]
    }
   ],
   "source": [
    "# CLASSIFICATION REPORTS\n",
    "# -----------------------\n",
    "def generate_classification_report(model_name, y_test, y_pred):\n",
    "    report = classification_report(y_test, y_pred)\n",
    "    print(f\"Classification Report for {model_name}:\\n{report}\\n\")\n",
    "\n",
    "generate_classification_report(\"Logistic Regression\", y_test, y_pred_model1)\n",
    "generate_classification_report(\"Decision Tree\", y_test, y_pred_model2)\n",
    "generate_classification_report(\"Random Forest\", y_test, y_pred_model3)\n",
    "generate_classification_report(\"K-Nearest Neighbors\", y_test, y_pred_model4)"
   ]
  },
  {
   "cell_type": "code",
   "execution_count": 22,
   "id": "8d995f61-fe90-4927-8694-a6a4604d08fa",
   "metadata": {},
   "outputs": [
    {
     "data": {
      "text/plain": [
       "['Random_Forest.pkl']"
      ]
     },
     "execution_count": 22,
     "metadata": {},
     "output_type": "execute_result"
    }
   ],
   "source": [
    "joblib.dump(model3, \"Random_Forest.pkl\")\n"
   ]
  },
  {
   "cell_type": "code",
   "execution_count": 23,
   "id": "d4e36191-c2c3-4252-94ed-80d37e58b038",
   "metadata": {},
   "outputs": [
    {
     "name": "stdout",
     "output_type": "stream",
     "text": [
      "Prediction: Rejected\n"
     ]
    }
   ],
   "source": [
    "import joblib\n",
    "\n",
    "# Load the trained Random Forest model\n",
    "model = joblib.load(\"Random_Forest.pkl\")\n",
    "\n",
    "# Make predictions\n",
    "import numpy as np\n",
    "sample_input = np.array([[1, 1, 2, 1, 0, 5000]])  # Adjust input as per feature order\n",
    "prediction = model.predict(sample_input)\n",
    "\n",
    "# Display result\n",
    "print(\"Prediction:\", \"Approved\" if prediction[0] == 1 else \"Rejected\")\n"
   ]
  },
  {
   "cell_type": "code",
   "execution_count": 25,
   "id": "e44014a6-e480-4c8e-afab-19e1a9b6d499",
   "metadata": {},
   "outputs": [
    {
     "name": "stdout",
     "output_type": "stream",
     "text": [
      "Feature Order Used in Training: ['Gender' 'Married' 'Dependents' 'Education' 'Credit_Card_Debt'\n",
      " 'Employment_Type']\n"
     ]
    }
   ],
   "source": [
    "import joblib\n",
    "\n",
    "# Load the trained model\n",
    "model = joblib.load(\"Random_Forest.pkl\")\n",
    "\n",
    "# Get feature names used during training\n",
    "print(\"Feature Order Used in Training:\", model.feature_names_in_)\n"
   ]
  },
  {
   "cell_type": "code",
   "execution_count": null,
   "id": "43132f2a-93fd-43da-a14d-bfbcf1fff1a2",
   "metadata": {},
   "outputs": [],
   "source": []
  }
 ],
 "metadata": {
  "kernelspec": {
   "display_name": "Python 3 (ipykernel)",
   "language": "python",
   "name": "python3"
  },
  "language_info": {
   "codemirror_mode": {
    "name": "ipython",
    "version": 3
   },
   "file_extension": ".py",
   "mimetype": "text/x-python",
   "name": "python",
   "nbconvert_exporter": "python",
   "pygments_lexer": "ipython3",
   "version": "3.11.9"
  }
 },
 "nbformat": 4,
 "nbformat_minor": 5
}
